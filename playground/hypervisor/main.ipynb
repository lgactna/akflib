{
 "cells": [
  {
   "cell_type": "code",
   "execution_count": 1,
   "metadata": {},
   "outputs": [],
   "source": [
    "# Follow the instructions on https://github.com/sethmlarson/virtualbox-python\n",
    "# regarding installation of the VirtualBox SDK. If in virtual environment,\n",
    "# make sure to activate it before installing the SDK.\n",
    "#\n",
    "# VirtualBox's installation script (which installs vboxapi) tends to error\n",
    "# out when I do it, but it seems to work anyways.\n",
    "\n",
    "import virtualbox\n"
   ]
  },
  {
   "cell_type": "code",
   "execution_count": 4,
   "metadata": {},
   "outputs": [
    {
     "name": "stdout",
     "output_type": "stream",
     "text": [
      "ubuntu2404\n",
      "PoweredOff\n",
      "<class 'virtualbox.library.MachineState'>\n",
      "8192\n",
      "9e896d5d-038f-423f-a420-594ba8c41643\n",
      "Windows 11\n",
      "PoweredOff\n",
      "<class 'virtualbox.library.MachineState'>\n",
      "4096\n",
      "5ed50965-0440-4424-a4ce-1576a6369bd1\n",
      "win11-nounattend\n",
      "PoweredOff\n",
      "<class 'virtualbox.library.MachineState'>\n",
      "16384\n",
      "20d34a1d-0226-4827-92ee-03274c86f66f\n"
     ]
    }
   ],
   "source": [
    "\n",
    "# Note that VirtualBox (the GUI) doesn't need to be open to run this.\n",
    "vbox = virtualbox.VirtualBox()\n",
    "for machine in vbox.machines:\n",
    "    print(machine.name)\n",
    "    print(machine.state)\n",
    "    print(type(machine.state))\n",
    "    print(machine.memory_size)\n",
    "    print(machine.id_p)\n",
    "    "
   ]
  },
  {
   "cell_type": "code",
   "execution_count": 11,
   "metadata": {},
   "outputs": [],
   "source": [
    "# Launch the VM. The second argument to launch_vm_process, `name`, dictates\n",
    "# the frontend that the GUI will use. The three usable ones are:\n",
    "# - \"gui\": VirtualBox Qt GUI front-end\n",
    "# - \"headless\": VBoxHeadless (VRDE Server) front-end\n",
    "# - \"sdl\": VirtualBox SDL front-end\n",
    "#\n",
    "# \"gui\" is the standard GUI frontend (e.g. the one you see when you start a VM\n",
    "# normally from the VBox GUI) based on Qt. \"sdl\" is an alternative \n",
    "# SDL-based GUI frontend, which is lightweight and generally Linux-only.\n",
    "# (see https://forums.virtualbox.org/viewtopic.php?t=104104)\n",
    "\n",
    "session = virtualbox.Session()\n",
    "machine = vbox.find_machine(\"win11-nounattend\")\n",
    "\n",
    "# Returns an async `IProgress` object. wait_for_completion() is basically the\n",
    "# same as awaiting that object.\n",
    "#\n",
    "# Additionally, this locks the machine to the provided session. Opening a GUI\n",
    "# instance implicitly creates a lock on the machine.\n",
    "progress = machine.launch_vm_process(session, \"gui\", [])\n",
    "progress.wait_for_completion()"
   ]
  },
  {
   "cell_type": "code",
   "execution_count": 2,
   "metadata": {},
   "outputs": [],
   "source": [
    "# Bind a new session to a machine, typically an already-running VM.\n",
    "#\n",
    "# There are three lock types: shared (1), write (2), and vm (3).\n",
    "# Shared locks allow multiple distinct sessions to operate on the same machine\n",
    "# at once, with the caveat that various operations -- such as changing the \n",
    "# machine state or creating snapshots - are disallowed. The write lock may\n",
    "# only be held by exactly one session at a time.\n",
    "\n",
    "import virtualbox\n",
    "vbox = virtualbox.VirtualBox()\n",
    "\n",
    "session = virtualbox.Session()\n",
    "machine = vbox.find_machine(\"win11-2\")\n",
    "machine.lock_machine(session, virtualbox.library.LockType.shared)\n"
   ]
  },
  {
   "cell_type": "code",
   "execution_count": null,
   "metadata": {},
   "outputs": [],
   "source": [
    "\n",
    "# Verify that this machine is at the desktop. The `additions_run_level` can\n",
    "# be one of three values:\n",
    "# - 0: Guest Additions are not loaded\n",
    "# - 1: Guest drivers are loaded\n",
    "# - 2: Common components (such as application services) are loaded.\n",
    "# - 3: Per-user desktop components are loaded.\n",
    "#\n",
    "# This is described as part of `AdditionsRunLevelType`.\n",
    "import time\n",
    "if session.console.guest.additions_run_level != virtualbox.library.AdditionsRunLevelType.desktop:\n",
    "    print(\"Not at desktop yet.\")\n",
    "    time.sleep(1)\n",
    "print(\"At desktop.\")"
   ]
  },
  {
   "cell_type": "code",
   "execution_count": 2,
   "metadata": {},
   "outputs": [
    {
     "name": "stdout",
     "output_type": "stream",
     "text": [
      "C:\\Users\\Kisun\\Desktop\\Projects\\Thesis\\akf\\examples\\hypervisor\n"
     ]
    }
   ],
   "source": [
    "# Create a named shared directory. In practice, this looks like a network mount.\n",
    "\n",
    "from pathlib import Path\n",
    "\n",
    "print(Path(\".\").resolve())\n",
    "\n",
    "# https://www.virtualbox.org/sdkref/interface_i_machine.html#a56d8797225812968b96f0663a02bd4ff\n",
    "session.machine.create_shared_folder(\n",
    "    \"shared_folder\",\n",
    "    str(Path(\"./shared\").resolve()),\n",
    "    True,\n",
    "    True,\n",
    "    \"E:\" # must include colon for drive letter\n",
    ")\n",
    "session.machine.save_settings()"
   ]
  },
  {
   "cell_type": "code",
   "execution_count": 24,
   "metadata": {},
   "outputs": [
    {
     "name": "stdout",
     "output_type": "stream",
     "text": [
      "1\n",
      "0\n"
     ]
    }
   ],
   "source": [
    "# Test if the shared folder exists. (you can also check if a file exists,\n",
    "# though VBox tends to be pretty fast about both the mount itself and \n",
    "# file updates)\n",
    "\n",
    "gs = session.console.guest.create_session(\"user\", \"user\")\n",
    "print(gs.directory_exists(\"E:\", True))\n",
    "print(gs.directory_exists(\"F:\", True))\n",
    "gs.close()"
   ]
  },
  {
   "cell_type": "code",
   "execution_count": 18,
   "metadata": {},
   "outputs": [],
   "source": [
    "# Remove the shared folder.\n",
    "session.machine.remove_shared_folder(\"shared_folder\")\n",
    "session.machine.save_settings()"
   ]
  },
  {
   "cell_type": "code",
   "execution_count": 10,
   "metadata": {},
   "outputs": [],
   "source": [
    "session.unlock_machine()"
   ]
  },
  {
   "cell_type": "code",
   "execution_count": 8,
   "metadata": {},
   "outputs": [
    {
     "name": "stdout",
     "output_type": "stream",
     "text": [
      "Normal\n",
      "88afc3aa-688a-4099-b8bd-8e11009c3a72\n",
      "C:\\Users\\Kisun\\VirtualBox VMs\\win11-2\\Snapshots\\{88afc3aa-688a-4099-b8bd-8e11009c3a72}.vdi\n",
      "4243587072\n",
      "\n",
      "Created\n",
      "Readonly\n",
      "efe82f9b-8481-4041-a683-e6c4653afca4\n",
      "C:\\Program Files\\Oracle\\VirtualBox\\VBoxGuestAdditions.iso\n",
      "59699200\n",
      "\n",
      "Created\n",
      "Readonly\n",
      "b77d1388-5b83-460d-bcf2-8d14b308a51c\n",
      "C:\\Users\\Kisun\\VirtualBox VMs\\win11-2\\Unattended-b23cde53-15cb-4475-a8f2-e5b93c667d89-aux-iso.viso\n",
      "0\n",
      "\n",
      "Created\n",
      "Readonly\n",
      "3339a9f3-178b-47c6-b2ae-c4430fa9f018\n",
      "C:\\Users\\Kisun\\Desktop\\Projects\\Thesis\\akf\\example.iso\n",
      "212992\n",
      "\n",
      "Created\n"
     ]
    }
   ],
   "source": [
    "# Let's try to export a disk.\n",
    "\n",
    "# Need to find our disk's ID first -- also see VBoxManage list hdds\n",
    "# ~HvVBox.get_disk_list\n",
    "for disk in session.machine.medium_attachments:\n",
    "    if disk.medium is None:\n",
    "        continue\n",
    "    \n",
    "    # if disk.type_p != virtualbox.library.DeviceType.hard_disk and disk.type_p != virtualbox.library.DeviceType.usb:\n",
    "    #     continue\n",
    "    \n",
    "    # these are all properties of IMedium\n",
    "    print(disk.medium.type_p)\n",
    "    print(disk.medium.id_p)\n",
    "    \n",
    "    # if disk.medium.type_p == virtualbox.library.DeviceType.hard_disk:\n",
    "    print(disk.medium.location)\n",
    "    print(disk.medium.size)\n",
    "    # print(disk.medium.variant)\n",
    "    print(disk.medium.description)\n",
    "    print(disk.medium.state)\n",
    "    \n",
    "    \n",
    "# So our disk's ID is 8d7d497d-9c23-4d29-9ef2-a9da4a401e9f\n",
    "\n",
    "# ~HvVBox.export_disk\n",
    "# TODO: on vbox hypervisor instance initialization, we should immediately try\n",
    "# to find VBoxManage's location\n",
    "#\n",
    "# https://docs.oracle.com/en/virtualization/virtualbox/6.0/user/vboxmanage-clonemedium.html\n",
    "#\n",
    "# also note that Windows 11 apparently has disk encryption on by default now.\n",
    "# if the basic disk partition appears to be encrypted, that's because it is.\n",
    "# TODO: disable disk encryption on the VM before exporting the disk through the\n",
    "# hypervisor/guest interface?\n",
    "# also see https://superuser.com/questions/1841507/does-installing-windows-11-automatically-encrypt-all-drives\n",
    "\n",
    "# vboxmanage = \"C:\\\\Program Files\\\\Oracle\\\\VirtualBox\\\\VboxManage.exe\"\n",
    "# args = [\"clonemedium\", \"--format\", \"raw\", \"8d7d497d-9c23-4d29-9ef2-a9da4a401e9f\", str(Path(\".\").resolve() / \"export.raw\")]\n",
    "\n",
    "# print(f\"Executing {vboxmanage} {' '.join(args)}\")\n",
    "\n",
    "# import subprocess\n",
    "# # i believe the machine has to be off for this to work? if it returns an error,\n",
    "# # it's because the disk is either in use or something is already there\n",
    "# #\n",
    "# # also note this takes a pretty long time, usually a minute or two\n",
    "# s = subprocess.run([vboxmanage] + args)\n",
    "# print(s.returncode)\n",
    "# print(s.stdout)\n",
    "# print(s.stderr)\n"
   ]
  },
  {
   "cell_type": "code",
   "execution_count": null,
   "metadata": {},
   "outputs": [],
   "source": [
    "\n",
    "# Cloning a disk causes it to be loaded into the list of registered images, so we have to find the\n",
    "# new medium and remove it -- we could either keep track of the existing IDs,\n",
    "# or just search for which VDI has a filepath to the export.vdi file.\n",
    "#\n",
    "# You'll see the disk in `./VBoxManage list hdds` if it hasn't been removed yet.\n",
    "\n",
    "for disk in vbox.hard_disks:\n",
    "    if disk.location == str(Path(\".\").resolve() / \"export.raw\"):\n",
    "        disk.close()\n",
    "        break\n",
    "\n",
    "# it should not be gone from `list hdds` -- also note that deleting the underlying\n",
    "# file will not remove the disk from the list of registered images\n",
    "\n",
    "# for disk in session.machine.medium_attachments:\n",
    "#     if Path(disk.location).resolve() == str(Path(\".\").resolve() / \"export.raw\"):\n",
    "#         session.machine.detach_device(disk.controller, disk.port, disk.device, True)\n",
    "#         break\n"
   ]
  },
  {
   "cell_type": "code",
   "execution_count": 15,
   "metadata": {},
   "outputs": [
    {
     "name": "stdout",
     "output_type": "stream",
     "text": [
      "NAT\n",
      "True\n",
      "True\n",
      "Null\n",
      "192.168.56.103\n"
     ]
    }
   ],
   "source": [
    "# We can check various strings to figure out which one is the host-only interface.\n",
    "# The \"HostOnly\" string enumeration member (from the NetworkAdapterType enum) is\n",
    "# what we're looking for.\n",
    "#\n",
    "# Since get_max_network_adapters doesn't work, the alternative is to simply check\n",
    "# every network adapter until we find the first host-only adapter. If an exception\n",
    "# occurs, or we get Null, we've exhausted all the adapters.\n",
    "print(machine.get_network_adapter(0).attachment_type) # NAT == 1\n",
    "print(machine.get_network_adapter(1).attachment_type == virtualbox.library.NetworkAttachmentType.host_only) # HostOnly == 4\n",
    "print(machine.get_network_adapter(2).attachment_type == virtualbox.library.NetworkAdapterType.null) # HostOnly == 4\n",
    "print(machine.get_network_adapter(3).attachment_type) # HostOnly == 4\n",
    "\n",
    "# for some reason this doesn't work\n",
    "# https://www.virtualbox.org/sdkref/interface_i_platform_properties.html#ac0492d9c0357bb91c18d9e2ea6222d66\n",
    "# VBoxError: \"Failed to find attribute getMaxNetworkAdapters...\"\"\n",
    "# print(vbox.system_properties.get_max_network_adapters(virtualbox.library.ChipsetType(1))) \n",
    "\n",
    "# With the Guest Additions installed, we can get the IP address of the guest.\n",
    "# Because we've configured eth1 (adapter 2) as the host-only adapter, we use\n",
    "# .../Net/1/V4/IP to get the IP address of the guest over the maintanance\n",
    "# interface. Consistent with the `VBoxManage guestproperty enumerate` command,\n",
    "# a set of tuples - here, column-major order.\n",
    "#\n",
    "# Note that the host-only adapter should be configured to be the *second* adapter\n",
    "# in VirtualBox. This is because *plenty* of things will simply go slower on Windows\n",
    "# when it tries to use the host-only adapter as the primary network interface,\n",
    "# and since it doesn't have internet, things like SmartScreen and Defender\n",
    "# checking downloaded files will take forever.\n",
    "result = machine.enumerate_guest_properties(\"/VirtualBox/GuestInfo/Net/1/V4/IP\")\n",
    "host_ip_address = result[1][0]\n",
    "print(host_ip_address)\n",
    "\n",
    "# The IP address of the virtual host-only adapter for the *host* is \n",
    "# 192.168.56.1/24 by default."
   ]
  },
  {
   "cell_type": "code",
   "execution_count": null,
   "metadata": {},
   "outputs": [],
   "source": []
  },
  {
   "cell_type": "code",
   "execution_count": 1,
   "metadata": {},
   "outputs": [],
   "source": [
    "# To get a network capture *at the hypervisor level*, you need to configure\n",
    "# the desired interface's \"trace file\". At a lower level, that means you need\n",
    "# to enable tracing for that interface, as well as configure the output path\n",
    "# for the trace file.\n",
    "#\n",
    "# reference: synthesizers-combined/pyvmpop/pyvmpop/hypervisor/hv_vbox.py:1635\n",
    "\n",
    "import virtualbox\n",
    "\n",
    "# Get our NAT interface\n",
    "vbox = virtualbox.VirtualBox()\n",
    "session = virtualbox.Session()\n",
    "machine = vbox.find_machine(\"win11-nounattend\")\n",
    "\n",
    "# progress = machine.launch_vm_process(session, \"gui\", [])\n",
    "# progress.wait_for_completion()\n",
    "\n",
    "# Need a lock to change these settings. A shared lock is sufficient.\n",
    "# This doesn't happen in VMPOP's hv_vbox.py because they already have a \n",
    "# session lock, likely as a result of starting the machine.\n",
    "machine.lock_machine(session, virtualbox.library.LockType.shared)\n",
    "\n",
    "# Getting the network adapter *has* to be bound to a session for this to work.\n",
    "# Without a session holding a lock, you'll get inexplicable errors about needing\n",
    "# the machine to be saved/running... when the machine is already in those states.\n",
    "network_adapter = session.machine.get_network_adapter(0)\n",
    "\n",
    "# Power off the machine if it is currently on\n",
    "# if machine.state == virtualbox.library.MachineState(5):\n",
    "#     # Guest Additions shutdown, i.e. a normal ACPI shutdown.\n",
    "#     # session.console.guest.shutdown()\n",
    "    \n",
    "#     # Note that this is a VM shutdown, not an ACPI shutdown.    \n",
    "#     progress = session.console.power_down()\n",
    "#     progress.wait_for_completion()\n",
    "\n",
    "# You're supposed to only configure tracing when the machine is off, but that\n",
    "# doesn't seem to be a hard requirement.\n",
    "# https://forums.virtualbox.org/viewtopic.php?t=93612\n",
    "network_adapter.trace_enabled = True\n",
    "network_adapter.trace_file = \"\"\n",
    "session.machine.save_settings()\n",
    "session.unlock_machine()"
   ]
  }
 ],
 "metadata": {
  "kernelspec": {
   "display_name": ".venv",
   "language": "python",
   "name": "python3"
  },
  "language_info": {
   "codemirror_mode": {
    "name": "ipython",
    "version": 3
   },
   "file_extension": ".py",
   "mimetype": "text/x-python",
   "name": "python",
   "nbconvert_exporter": "python",
   "pygments_lexer": "ipython3",
   "version": "3.11.9"
  }
 },
 "nbformat": 4,
 "nbformat_minor": 2
}
